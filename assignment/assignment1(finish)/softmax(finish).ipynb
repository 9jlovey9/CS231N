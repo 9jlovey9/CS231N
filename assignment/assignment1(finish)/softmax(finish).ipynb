{
 "cells": [
  {
   "cell_type": "code",
   "execution_count": null,
   "id": "161a3aa0",
   "metadata": {},
   "outputs": [],
   "source": [
    "#本地运行时，此代码框不需要运行\n",
    "# This mounts your Google Drive to the Colab VM.\n",
    "from google.colab import drive\n",
    "drive.mount('/content/drive')\n",
    "\n",
    "# TODO: Enter the foldername in your Drive where you have saved the unzipped\n",
    "# assignment folder, e.g. 'cs231n/assignments/assignment1/'\n",
    "FOLDERNAME = None\n",
    "assert FOLDERNAME is not None, \"[!] Enter the foldername.\"\n",
    "\n",
    "# Now that we've mounted your Drive, this ensures that\n",
    "# the Python interpreter of the Colab VM can load\n",
    "# python files from within it.\n",
    "import sys\n",
    "sys.path.append('/content/drive/My Drive/{}'.format(FOLDERNAME))\n",
    "\n",
    "# This downloads the CIFAR-10 dataset to your Drive\n",
    "# if it doesn't already exist.\n",
    "%cd /content/drive/My\\ Drive/$FOLDERNAME/cs231n/datasets/\n",
    "!bash get_datasets.sh\n",
    "%cd /content/drive/My\\ Drive/$FOLDERNAME"
   ]
  },
  {
   "cell_type": "markdown",
   "id": "26fdca1c",
   "metadata": {
    "tags": [
     "pdf-title"
    ]
   },
   "source": [
    "# Softmax exercise\n",
    "\n",
    "*Complete and hand in this completed worksheet (including its outputs and any supporting code outside of the worksheet) with your assignment submission. For more details see the [assignments page](http://vision.stanford.edu/teaching/cs231n/assignments.html) on the course website.*\n",
    "\n",
    "This exercise is analogous to the SVM exercise. You will:\n",
    "\n",
    "- implement a fully-vectorized **loss function** for the Softmax classifier\n",
    "- implement the fully-vectorized expression for its **analytic gradient**\n",
    "- **check your implementation** with numerical gradient\n",
    "- use a validation set to **tune the learning rate and regularization** strength\n",
    "- **optimize** the loss function with **SGD**\n",
    "- **visualize** the final learned weights\n"
   ]
  },
  {
   "cell_type": "code",
   "execution_count": 1,
   "id": "1f12280f",
   "metadata": {
    "tags": [
     "pdf-ignore"
    ]
   },
   "outputs": [],
   "source": [
    "import random\n",
    "import numpy as np\n",
    "from cs231n.data_utils import load_CIFAR10\n",
    "import matplotlib.pyplot as plt\n",
    "\n",
    "%matplotlib inline\n",
    "plt.rcParams['figure.figsize'] = (10.0, 8.0) # set default size of plots\n",
    "plt.rcParams['image.interpolation'] = 'nearest'\n",
    "plt.rcParams['image.cmap'] = 'gray'\n",
    "\n",
    "# for auto-reloading extenrnal modules\n",
    "# see http://stackoverflow.com/questions/1907993/autoreload-of-modules-in-ipython\n",
    "%load_ext autoreload\n",
    "%autoreload 2"
   ]
  },
  {
   "cell_type": "code",
   "execution_count": 2,
   "id": "ab106c82",
   "metadata": {
    "tags": [
     "pdf-ignore"
    ]
   },
   "outputs": [
    {
     "name": "stdout",
     "output_type": "stream",
     "text": [
      "Train data shape:  (49000, 3073)\n",
      "Train labels shape:  (49000,)\n",
      "Validation data shape:  (1000, 3073)\n",
      "Validation labels shape:  (1000,)\n",
      "Test data shape:  (1000, 3073)\n",
      "Test labels shape:  (1000,)\n",
      "dev data shape:  (500, 3073)\n",
      "dev labels shape:  (500,)\n"
     ]
    }
   ],
   "source": [
    "def get_CIFAR10_data(num_training=49000, num_validation=1000, num_test=1000, num_dev=500):\n",
    "    \"\"\"\n",
    "    Load the CIFAR-10 dataset from disk and perform preprocessing to prepare\n",
    "    it for the linear classifier. These are the same steps as we used for the\n",
    "    SVM, but condensed to a single function.  \n",
    "    \"\"\"\n",
    "    # Load the raw CIFAR-10 data\n",
    "    cifar10_dir = r'C:\\Users\\jlovey\\Desktop\\cs231n\\CS231N-ag1-2021\\assignment1\\cs231n\\datasets\\cifar-10-python\\cifar-10-batches-py'\n",
    "    \n",
    "    # Cleaning up variables to prevent loading data multiple times (which may cause memory issue)\n",
    "    try:\n",
    "       del X_train, y_train\n",
    "       del X_test, y_test\n",
    "       print('Clear previously loaded data.')\n",
    "    except:\n",
    "       pass\n",
    "\n",
    "    X_train, y_train, X_test, y_test = load_CIFAR10(cifar10_dir)\n",
    "    \n",
    "    # subsample the data\n",
    "    mask = list(range(num_training, num_training + num_validation))\n",
    "    X_val = X_train[mask]\n",
    "    y_val = y_train[mask]\n",
    "    mask = list(range(num_training))\n",
    "    X_train = X_train[mask]\n",
    "    y_train = y_train[mask]\n",
    "    mask = list(range(num_test))\n",
    "    X_test = X_test[mask]\n",
    "    y_test = y_test[mask]\n",
    "    mask = np.random.choice(num_training, num_dev, replace=False)\n",
    "    X_dev = X_train[mask]\n",
    "    y_dev = y_train[mask]\n",
    "    \n",
    "    # Preprocessing: reshape the image data into rows\n",
    "    X_train = np.reshape(X_train, (X_train.shape[0], -1))\n",
    "    X_val = np.reshape(X_val, (X_val.shape[0], -1))\n",
    "    X_test = np.reshape(X_test, (X_test.shape[0], -1))\n",
    "    X_dev = np.reshape(X_dev, (X_dev.shape[0], -1))\n",
    "    \n",
    "    # Normalize the data: subtract the mean image\n",
    "    mean_image = np.mean(X_train, axis = 0)\n",
    "    X_train -= mean_image\n",
    "    X_val -= mean_image\n",
    "    X_test -= mean_image\n",
    "    X_dev -= mean_image\n",
    "    \n",
    "    # add bias dimension and transform into columns\n",
    "    X_train = np.hstack([X_train, np.ones((X_train.shape[0], 1))])\n",
    "    X_val = np.hstack([X_val, np.ones((X_val.shape[0], 1))])\n",
    "    X_test = np.hstack([X_test, np.ones((X_test.shape[0], 1))])\n",
    "    X_dev = np.hstack([X_dev, np.ones((X_dev.shape[0], 1))])\n",
    "    \n",
    "    return X_train, y_train, X_val, y_val, X_test, y_test, X_dev, y_dev\n",
    "\n",
    "\n",
    "# Invoke the above function to get our data.\n",
    "X_train, y_train, X_val, y_val, X_test, y_test, X_dev, y_dev = get_CIFAR10_data()\n",
    "print('Train data shape: ', X_train.shape)\n",
    "print('Train labels shape: ', y_train.shape)\n",
    "print('Validation data shape: ', X_val.shape)\n",
    "print('Validation labels shape: ', y_val.shape)\n",
    "print('Test data shape: ', X_test.shape)\n",
    "print('Test labels shape: ', y_test.shape)\n",
    "print('dev data shape: ', X_dev.shape)\n",
    "print('dev labels shape: ', y_dev.shape)"
   ]
  },
  {
   "cell_type": "markdown",
   "id": "4721c3cb",
   "metadata": {},
   "source": [
    "## Softmax Classifier\n",
    "\n",
    "Your code for this section will all be written inside `cs231n/classifiers/softmax.py`.\n"
   ]
  },
  {
   "cell_type": "code",
   "execution_count": 3,
   "id": "d42765cd",
   "metadata": {},
   "outputs": [
    {
     "name": "stdout",
     "output_type": "stream",
     "text": [
      "loss: 2.350237\n",
      "sanity check: 2.302585\n"
     ]
    }
   ],
   "source": [
    "# First implement the naive softmax loss function with nested loops.\n",
    "# Open the file cs231n/classifiers/softmax.py and implement the\n",
    "# softmax_loss_naive function.\n",
    "\n",
    "from cs231n.classifiers.softmax import softmax_loss_naive\n",
    "import time\n",
    "\n",
    "# Generate a random softmax weight matrix and use it to compute the loss.\n",
    "W = np.random.randn(3073, 10) * 0.0001\n",
    "loss, grad = softmax_loss_naive(W, X_dev, y_dev, 0.0)\n",
    "\n",
    "# As a rough sanity check, our loss should be something close to -log(0.1).\n",
    "print('loss: %f' % loss)\n",
    "print('sanity check: %f' % (-np.log(0.1)))"
   ]
  },
  {
   "cell_type": "markdown",
   "id": "6f88764e",
   "metadata": {
    "tags": [
     "pdf-inline"
    ]
   },
   "source": [
    "**Inline Question 1**\n",
    "\n",
    "Why do we expect our loss to be close to -log(0.1)? Explain briefly.**\n",
    "\n",
    "$\\color{blue}{\\textit Your Answer:}$ \n",
    "\n",
    "一共有十个类别，从概率论的角度来说，随机抽取时，每个类别被抽到的概率为 $0.1$，即正确判断对类别的概率也是 $0.1$。 此处的权重系数是随机初始化的且根据softmax的工作原理，将得分转换为概率，平均来看，得到的正确率结果应该也是 $0.1$。\n",
    "\n"
   ]
  },
  {
   "cell_type": "code",
   "execution_count": 4,
   "id": "4c2626ef",
   "metadata": {},
   "outputs": [
    {
     "name": "stdout",
     "output_type": "stream",
     "text": [
      "numerical: 1.298878 analytic: 1.298878, relative error: 7.100128e-09\n",
      "numerical: -0.421237 analytic: -0.421237, relative error: 1.088505e-07\n",
      "numerical: 1.765030 analytic: 1.765030, relative error: 5.641874e-09\n",
      "numerical: -0.036145 analytic: -0.036145, relative error: 3.184022e-07\n",
      "numerical: 2.195631 analytic: 2.195631, relative error: 1.987710e-08\n",
      "numerical: -0.826353 analytic: -0.826353, relative error: 6.915670e-08\n",
      "numerical: -3.340138 analytic: -3.340138, relative error: 1.500093e-08\n",
      "numerical: -1.861641 analytic: -1.861641, relative error: 9.973660e-09\n",
      "numerical: 1.301663 analytic: 1.301662, relative error: 5.368010e-08\n",
      "numerical: -3.599226 analytic: -3.599226, relative error: 6.992687e-09\n",
      "numerical: 2.125998 analytic: 2.125998, relative error: 1.165694e-08\n",
      "numerical: 0.880899 analytic: 0.880899, relative error: 1.318040e-08\n",
      "numerical: 0.717191 analytic: 0.717191, relative error: 6.260543e-08\n",
      "numerical: 1.309489 analytic: 1.309489, relative error: 2.964668e-08\n",
      "numerical: -0.164021 analytic: -0.164021, relative error: 4.464838e-08\n",
      "numerical: 1.006151 analytic: 1.006151, relative error: 3.598636e-08\n",
      "numerical: -0.790479 analytic: -0.790479, relative error: 1.969801e-08\n",
      "numerical: -1.371490 analytic: -1.371490, relative error: 1.609487e-08\n",
      "numerical: 1.396097 analytic: 1.396097, relative error: 3.738738e-08\n",
      "numerical: 3.505242 analytic: 3.505242, relative error: 1.245690e-08\n"
     ]
    }
   ],
   "source": [
    "# Complete the implementation of softmax_loss_naive and implement a (naive)\n",
    "# version of the gradient that uses nested loops.\n",
    "loss, grad = softmax_loss_naive(W, X_dev, y_dev, 0.0)\n",
    "\n",
    "# As we did for the SVM, use numeric gradient checking as a debugging tool.\n",
    "# The numeric gradient should be close to the analytic gradient.\n",
    "from cs231n.gradient_check import grad_check_sparse\n",
    "f = lambda w: softmax_loss_naive(w, X_dev, y_dev, 0.0)[0]\n",
    "grad_numerical = grad_check_sparse(f, W, grad, 10)\n",
    "\n",
    "# similar to SVM case, do another gradient check with regularization\n",
    "loss, grad = softmax_loss_naive(W, X_dev, y_dev, 5e1)\n",
    "f = lambda w: softmax_loss_naive(w, X_dev, y_dev, 5e1)[0]\n",
    "grad_numerical = grad_check_sparse(f, W, grad, 10)"
   ]
  },
  {
   "cell_type": "code",
   "execution_count": 5,
   "id": "434e757f",
   "metadata": {},
   "outputs": [
    {
     "name": "stdout",
     "output_type": "stream",
     "text": [
      "naive loss: 2.350237e+00 computed in 0.093750s\n",
      "vectorized loss: 2.350237e+00 computed in 0.020945s\n",
      "Loss difference: 0.000000\n",
      "Gradient difference: 0.000000\n"
     ]
    }
   ],
   "source": [
    "# Now that we have a naive implementation of the softmax loss function and its gradient,\n",
    "# implement a vectorized version in softmax_loss_vectorized.\n",
    "# The two versions should compute the same results, but the vectorized version should be\n",
    "# much faster.\n",
    "tic = time.time()\n",
    "loss_naive, grad_naive = softmax_loss_naive(W, X_dev, y_dev, 0.000005)\n",
    "toc = time.time()\n",
    "print('naive loss: %e computed in %fs' % (loss_naive, toc - tic))\n",
    "\n",
    "from cs231n.classifiers.softmax import softmax_loss_vectorized\n",
    "tic = time.time()\n",
    "loss_vectorized, grad_vectorized = softmax_loss_vectorized(W, X_dev, y_dev, 0.000005)\n",
    "toc = time.time()\n",
    "print('vectorized loss: %e computed in %fs' % (loss_vectorized, toc - tic))\n",
    "\n",
    "# As we did for the SVM, we use the Frobenius norm to compare the two versions\n",
    "# of the gradient.\n",
    "grad_difference = np.linalg.norm(grad_naive - grad_vectorized, ord='fro')\n",
    "print('Loss difference: %f' % np.abs(loss_naive - loss_vectorized))\n",
    "print('Gradient difference: %f' % grad_difference)"
   ]
  },
  {
   "cell_type": "code",
   "execution_count": 6,
   "id": "2e5e374d",
   "metadata": {
    "tags": [
     "code"
    ],
    "test": "tuning"
   },
   "outputs": [
    {
     "name": "stdout",
     "output_type": "stream",
     "text": [
      "lr 1.000000e-07 reg 1.000000e+03 train accuracy: 0.229286 val accuracy: 0.219000\n",
      "lr 1.000000e-07 reg 3.250000e+03 train accuracy: 0.270510 val accuracy: 0.273000\n",
      "lr 1.000000e-07 reg 5.500000e+03 train accuracy: 0.296980 val accuracy: 0.303000\n",
      "lr 1.000000e-07 reg 7.750000e+03 train accuracy: 0.315755 val accuracy: 0.324000\n",
      "lr 1.000000e-07 reg 1.000000e+04 train accuracy: 0.327490 val accuracy: 0.339000\n",
      "lr 3.250000e-07 reg 1.000000e+03 train accuracy: 0.324633 val accuracy: 0.298000\n",
      "lr 3.250000e-07 reg 3.250000e+03 train accuracy: 0.373224 val accuracy: 0.395000\n",
      "lr 3.250000e-07 reg 5.500000e+03 train accuracy: 0.368061 val accuracy: 0.385000\n",
      "lr 3.250000e-07 reg 7.750000e+03 train accuracy: 0.362306 val accuracy: 0.373000\n",
      "lr 3.250000e-07 reg 1.000000e+04 train accuracy: 0.354531 val accuracy: 0.362000\n",
      "lr 5.500000e-07 reg 1.000000e+03 train accuracy: 0.368245 val accuracy: 0.359000\n",
      "lr 5.500000e-07 reg 3.250000e+03 train accuracy: 0.381816 val accuracy: 0.389000\n",
      "lr 5.500000e-07 reg 5.500000e+03 train accuracy: 0.367531 val accuracy: 0.380000\n",
      "lr 5.500000e-07 reg 7.750000e+03 train accuracy: 0.361204 val accuracy: 0.378000\n",
      "lr 5.500000e-07 reg 1.000000e+04 train accuracy: 0.356041 val accuracy: 0.362000\n",
      "lr 7.750000e-07 reg 1.000000e+03 train accuracy: 0.386816 val accuracy: 0.391000\n",
      "lr 7.750000e-07 reg 3.250000e+03 train accuracy: 0.380551 val accuracy: 0.374000\n",
      "lr 7.750000e-07 reg 5.500000e+03 train accuracy: 0.375163 val accuracy: 0.386000\n",
      "lr 7.750000e-07 reg 7.750000e+03 train accuracy: 0.357082 val accuracy: 0.376000\n",
      "lr 7.750000e-07 reg 1.000000e+04 train accuracy: 0.354571 val accuracy: 0.373000\n",
      "lr 1.000000e-06 reg 1.000000e+03 train accuracy: 0.387776 val accuracy: 0.398000\n",
      "lr 1.000000e-06 reg 3.250000e+03 train accuracy: 0.373796 val accuracy: 0.374000\n",
      "lr 1.000000e-06 reg 5.500000e+03 train accuracy: 0.361551 val accuracy: 0.365000\n",
      "lr 1.000000e-06 reg 7.750000e+03 train accuracy: 0.345551 val accuracy: 0.364000\n",
      "lr 1.000000e-06 reg 1.000000e+04 train accuracy: 0.341306 val accuracy: 0.341000\n",
      "best validation accuracy achieved during cross-validation: 0.398000\n"
     ]
    }
   ],
   "source": [
    "# Use the validation set to tune hyperparameters (regularization strength and\n",
    "# learning rate). You should experiment with different ranges for the learning\n",
    "# rates and regularization strengths; if you are careful you should be able to\n",
    "# get a classification accuracy of over 0.35 on the validation set.\n",
    "\n",
    "from cs231n.classifiers import Softmax\n",
    "results = {}\n",
    "best_val = -1\n",
    "best_softmax = None\n",
    "\n",
    "################################################################################\n",
    "# TODO:                                                                        #\n",
    "# Use the validation set to set the learning rate and regularization strength. #\n",
    "# This should be identical to the validation that you did for the SVM; save    #\n",
    "# the best trained softmax classifer in best_softmax.                          #\n",
    "################################################################################\n",
    "\n",
    "# Provided as a reference. You may or may not want to change these hyperparameters\n",
    "learning_rates = np.linspace(1e-7, 1e-6, 5)\n",
    "regularization_strengths = np.linspace(1e3, 1e4, 5)\n",
    "\n",
    "# *****START OF YOUR CODE (DO NOT DELETE/MODIFY THIS LINE)*****\n",
    "\n",
    "import itertools\n",
    "\n",
    "for lr, reg in itertools.product(learning_rates, regularization_strengths):\n",
    "    # Create Softmax and train it \n",
    "    softmax = Softmax()\n",
    "    softmax.train(X_train, y_train, lr, reg, num_iters=1000)\n",
    "\n",
    "    # Compute training and validation sets accuracies and append to the dictionary\n",
    "    y_train_pred, y_val_pred = softmax.predict(X_train), softmax.predict(X_val)\n",
    "    results[(lr, reg)] = np.mean(y_train == y_train_pred), np.mean(y_val == y_val_pred)\n",
    "\n",
    "    # Save if validation accuracy is the best\n",
    "    if results[(lr, reg)][1] > best_val:\n",
    "        best_val = results[(lr, reg)][1]\n",
    "        best_softmax = softmax\n",
    "\n",
    "# *****END OF YOUR CODE (DO NOT DELETE/MODIFY THIS LINE)*****\n",
    "    \n",
    "# Print out results.\n",
    "for lr, reg in sorted(results):\n",
    "    train_accuracy, val_accuracy = results[(lr, reg)]\n",
    "    print('lr %e reg %e train accuracy: %f val accuracy: %f' % (\n",
    "                lr, reg, train_accuracy, val_accuracy))\n",
    "    \n",
    "print('best validation accuracy achieved during cross-validation: %f' % best_val)"
   ]
  },
  {
   "cell_type": "code",
   "execution_count": 7,
   "id": "deb37cc6",
   "metadata": {
    "test": "test"
   },
   "outputs": [
    {
     "name": "stdout",
     "output_type": "stream",
     "text": [
      "softmax on raw pixels final test set accuracy: 0.384000\n"
     ]
    }
   ],
   "source": [
    "# evaluate on test set\n",
    "# Evaluate the best softmax on test set\n",
    "y_test_pred = best_softmax.predict(X_test)\n",
    "test_accuracy = np.mean(y_test == y_test_pred)\n",
    "print('softmax on raw pixels final test set accuracy: %f' % (test_accuracy, ))"
   ]
  },
  {
   "cell_type": "markdown",
   "id": "df501314",
   "metadata": {
    "tags": [
     "pdf-inline"
    ]
   },
   "source": [
    "**Inline Question 2** - *True or False*\n",
    "\n",
    "Suppose the overall training loss is defined as the sum of the per-datapoint loss over all training examples. It is possible to add a new datapoint to a training set that would leave the SVM loss unchanged, but this is not the case with the Softmax classifier loss.\n",
    "\n",
    "$\\color{blue}{\\textit Your Answer:}$\n",
    "\n",
    "Ture\n",
    "\n",
    "$\\color{blue}{\\textit Your Explanation:}$\n",
    "\n",
    "SVM loss和Softmax loss：($\\hat{y}$ - score, $i$ - any class label, $c$ - true class label)\n",
    "$$\\text{SVM loss: }\\ L_n = \\sum_{i\\ne c}^I\\max(0, \\hat y_i-\\hat y_c+\\Delta)$$\n",
    "\n",
    "$$\\text{Softmax loss: }\\ L_n=-\\log\\left(\\frac{e^{\\hat y_c}}{\\sum_{i=1}^Ie^{\\hat y_i}}\\right)$$\n",
    "\n",
    "*解释：*\n",
    "* **SVM loss**的目的是训练模型，使得正确的标签分配足够高的分数。如果错误标签的分数已经比正确标签的分数低了$\\Delta$值以上了，则总损失不受影响，因为没有任何数值被添加到总损失中。\n",
    "* **Softmax loss**的目的是使模型将正确标签的概率提高到 '1'，而其他标签的概率降低到 '0'。加入一个新的数据点后，损失总是会受到影响，因为一个数据点是几乎不可能训练到 $loss=0$ 。不管一个错误的标签得到多少分，它都会使得 $loss>0$ （除非该数据点错误标签的得分均为负无穷，$e^{-\\infty} \\approx 0$）\n",
    "* 因此，假设总体损失只是每个单独损失的总和，在错误标签和正确标签之间产生安全差异的数据点 $y_{wrong}-y_{label}+\\Delta<0$ 是一个不影响 **SVM loss**的数据点，但是，它一定会对**Softmax loss**产生一定的影响。"
   ]
  },
  {
   "cell_type": "code",
   "execution_count": 8,
   "id": "ade33adc",
   "metadata": {},
   "outputs": [
    {
     "data": {
      "image/png": "[encoded data removed]",
      "text/plain": [
       "<Figure size 720x576 with 10 Axes>"
      ]
     },
     "metadata": {
      "needs_background": "light"
     },
     "output_type": "display_data"
    }
   ],
   "source": [
    "# Visualize the learned weights for each class\n",
    "w = best_softmax.W[:-1,:] # strip out the bias\n",
    "w = w.reshape(32, 32, 3, 10)\n",
    "\n",
    "w_min, w_max = np.min(w), np.max(w)\n",
    "\n",
    "classes = ['plane', 'car', 'bird', 'cat', 'deer', 'dog', 'frog', 'horse', 'ship', 'truck']\n",
    "for i in range(10):\n",
    "    plt.subplot(2, 5, i + 1)\n",
    "    \n",
    "    # Rescale the weights to be between 0 and 255\n",
    "    wimg = 255.0 * (w[:, :, :, i].squeeze() - w_min) / (w_max - w_min)\n",
    "    plt.imshow(wimg.astype('uint8'))\n",
    "    plt.axis('off')\n",
    "    plt.title(classes[i])"
   ]
  },
  {
   "cell_type": "code",
   "execution_count": null,
   "id": "4d5d17f8",
   "metadata": {},
   "outputs": [],
   "source": []
  }
 ],
 "metadata": {
  "kernelspec": {
   "display_name": "Python 3.7.11 ('base')",
   "language": "python",
   "name": "python3"
  },
  "language_info": {
   "codemirror_mode": {
    "name": "ipython",
    "version": 3
   },
   "file_extension": ".py",
   "mimetype": "text/x-python",
   "name": "python",
   "nbconvert_exporter": "python",
   "pygments_lexer": "ipython3",
   "version": "3.7.11"
  },
  "vscode": {
   "interpreter": {
    "hash": "f54892df469e4de008b61d076cb70054211343ba7efe789da0558478f948810e"
   }
  }
 },
 "nbformat": 4,
 "nbformat_minor": 5
}
